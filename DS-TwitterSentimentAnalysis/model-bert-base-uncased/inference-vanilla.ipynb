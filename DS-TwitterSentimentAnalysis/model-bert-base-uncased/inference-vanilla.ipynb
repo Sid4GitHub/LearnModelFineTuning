{
 "cells": [
  {
   "cell_type": "code",
   "execution_count": 1,
   "id": "36ecb359",
   "metadata": {},
   "outputs": [
    {
     "name": "stderr",
     "output_type": "stream",
     "text": [
      "d:\\Work\\miniconda_env\\hf-pytorch\\lib\\site-packages\\transformers\\utils\\hub.py:111: FutureWarning: Using `TRANSFORMERS_CACHE` is deprecated and will be removed in v5 of Transformers. Use `HF_HOME` instead.\n",
      "  warnings.warn(\n",
      "Some weights of BertForSequenceClassification were not initialized from the model checkpoint at bert-base-uncased and are newly initialized: ['classifier.bias', 'classifier.weight']\n",
      "You should probably TRAIN this model on a down-stream task to be able to use it for predictions and inference.\n"
     ]
    },
    {
     "name": "stdout",
     "output_type": "stream",
     "text": [
      "Model loaded and ready for inferencing.\n"
     ]
    }
   ],
   "source": [
    "from transformers import AutoTokenizer, AutoModelForSequenceClassification\n",
    "from peft import PeftModel\n",
    "import torch\n",
    "import torch.nn as nn\n",
    "\n",
    "device = torch.device(\"cuda\" if torch.cuda.is_available() else \"cpu\")\n",
    "\n",
    "\n",
    "\n",
    "model_name = \"bert-base-uncased\"\n",
    "\n",
    "tokenizer = AutoTokenizer.from_pretrained(model_name)\n",
    "model = AutoModelForSequenceClassification.from_pretrained(model_name, num_labels=3)\n",
    "\n",
    "model.config.problem_type = \"single_label_classification\"\n",
    "\n",
    "\n",
    "model = model.to(device)\n",
    "\n",
    "model.eval()\n",
    "\n",
    "label_mapping = {0: 'neutral', 1: 'positive', 2: 'negative'}\n",
    "\n",
    "print(\"Model loaded and ready for inferencing.\")"
   ]
  },
  {
   "cell_type": "code",
   "execution_count": 2,
   "id": "b49d2294",
   "metadata": {},
   "outputs": [],
   "source": [
    "def predict_batch(texts):\n",
    "    inputs = tokenizer(texts, padding=True, truncation=True, return_tensors=\"pt\", max_length = 128).to(device)\n",
    "\n",
    "    with torch.no_grad():\n",
    "        outputs = model(**inputs)\n",
    "        pred = nn.functional.softmax(outputs.logits, dim=-1)\n",
    "        predicted_labels = torch.argmax(pred, dim=-1)\n",
    "\n",
    "    results = []\n",
    "    for i, text in enumerate(texts):\n",
    "        results.append({\"text\": text, \n",
    "                        \"sentiment\": label_mapping[predicted_labels[i].item()],\n",
    "                        \"confifence\": pred[i][predicted_labels[i]].item()\n",
    "                        })\n",
    "        \n",
    "    return results\n"
   ]
  },
  {
   "cell_type": "code",
   "execution_count": 3,
   "id": "f40bc615",
   "metadata": {},
   "outputs": [
    {
     "name": "stderr",
     "output_type": "stream",
     "text": [
      "d:\\Work\\miniconda_env\\hf-pytorch\\lib\\site-packages\\torch\\nn\\modules\\module.py:1747: FutureWarning: `encoder_attention_mask` is deprecated and will be removed in version 4.55.0 for `BertSdpaSelfAttention.forward`.\n",
      "  return forward_call(*args, **kwargs)\n"
     ]
    }
   ],
   "source": [
    "sample_texts = [\n",
    "\t\"I can't believe how bad the service was at that restaurant.\", # Negative Sentiment\n",
    "\t\"The movie was absolutely fantastic, I loved every minute of it!\", # Positive Sentiment\n",
    "\t\"It was okay, not great but not terrible either.\", # Neutral Sentiment\n",
    "\t\"This is the worst product I've ever bought!\", # Strong Negative Sentiment\n",
    "\t\"I am so thrilled with my new phone, it's amazing!\", # Strong Positive Sentiment\n",
    "\t\"The weather today is just perfect for a walk in the park.\", # Positive Sentiment\n",
    "\t\"I don't think this is going to work out well for us.\", # Negative Sentiment\n",
    "\t\"This book is a masterpiece, I couldn't put it down!\", # Positive Sentiment\n",
    "\t\"I really didn't enjoy the concert last night.\", # Negative Sentiment\n",
    "\t\"The food was decent, but I've had better.\", # Neutral Sentiment\n",
    "\t\"I just love waiting two hours for my coffee—it really makes my morning so special.\", #Sarcasm with Positive Lexicon\n",
    "\t\"It's not that the service was bad; it was just not completely unimpressive.\", # Double Negation & Understatement\n",
    "\t\"I adored the plot twists, but the pacing ruined what could've been an unforgettable read.\", #Mixed Sentiment (Multipolarity)\n",
    "\t\"Sure, the new update fixed half the bugs… but now it crashes every five minutes. Go figure.\", #Idiomatic Expression\n",
    "\t\"Great, my flight's delayed again—just what I needed before a red-carpet premiere.\", # Irony Embedded in Domain Context\n",
    "\t\"He really pulled a Gatsby by throwing that extravagant party—impressive, yet fundamentally hollow.\", # Cultural Reference Ambiguity\n",
    "\t\"wouldn't call their performance amazing; it was merely… adequate.\", #Subtle Negation Scope\n",
    "\t#\"Product arrived on time 😊 but looks nothing like the photos 😒.\", #  Emoticon-Driven Tone Shift\n",
    "\t\"Although the cinematography was breathtaking, the dialogue felt contrived and pretentious, leaving me torn.\", # Complex Compound Sentence\n",
    "\t\"The software's GUI is slick as hell, but the backend is a trainwreck—zero cohesion in the APIs.\" # Domain-Specific Jargon and Slang\n",
    "]\n",
    "\n",
    "results = predict_batch(sample_texts)"
   ]
  },
  {
   "cell_type": "code",
   "execution_count": 4,
   "id": "86077f1a",
   "metadata": {},
   "outputs": [
    {
     "name": "stdout",
     "output_type": "stream",
     "text": [
      "Text: I can't believe how bad the service was at that restaurant.\n",
      "Predicted Sentiment: negative (confidence: 0.35)\n",
      "\n",
      "Text: The movie was absolutely fantastic, I loved every minute of it!\n",
      "Predicted Sentiment: negative (confidence: 0.35)\n",
      "\n",
      "Text: It was okay, not great but not terrible either.\n",
      "Predicted Sentiment: negative (confidence: 0.36)\n",
      "\n",
      "Text: This is the worst product I've ever bought!\n",
      "Predicted Sentiment: negative (confidence: 0.38)\n",
      "\n",
      "Text: I am so thrilled with my new phone, it's amazing!\n",
      "Predicted Sentiment: negative (confidence: 0.34)\n",
      "\n",
      "Text: The weather today is just perfect for a walk in the park.\n",
      "Predicted Sentiment: negative (confidence: 0.35)\n",
      "\n",
      "Text: I don't think this is going to work out well for us.\n",
      "Predicted Sentiment: negative (confidence: 0.37)\n",
      "\n",
      "Text: This book is a masterpiece, I couldn't put it down!\n",
      "Predicted Sentiment: negative (confidence: 0.36)\n",
      "\n",
      "Text: I really didn't enjoy the concert last night.\n",
      "Predicted Sentiment: negative (confidence: 0.36)\n",
      "\n",
      "Text: The food was decent, but I've had better.\n",
      "Predicted Sentiment: negative (confidence: 0.36)\n",
      "\n",
      "Text: I just love waiting two hours for my coffee—it really makes my morning so special.\n",
      "Predicted Sentiment: positive (confidence: 0.36)\n",
      "\n",
      "Text: It's not that the service was bad; it was just not completely unimpressive.\n",
      "Predicted Sentiment: negative (confidence: 0.35)\n",
      "\n",
      "Text: I adored the plot twists, but the pacing ruined what could've been an unforgettable read.\n",
      "Predicted Sentiment: negative (confidence: 0.36)\n",
      "\n",
      "Text: Sure, the new update fixed half the bugs… but now it crashes every five minutes. Go figure.\n",
      "Predicted Sentiment: negative (confidence: 0.35)\n",
      "\n",
      "Text: Great, my flight's delayed again—just what I needed before a red-carpet premiere.\n",
      "Predicted Sentiment: negative (confidence: 0.36)\n",
      "\n",
      "Text: He really pulled a Gatsby by throwing that extravagant party—impressive, yet fundamentally hollow.\n",
      "Predicted Sentiment: positive (confidence: 0.37)\n",
      "\n",
      "Text: wouldn't call their performance amazing; it was merely… adequate.\n",
      "Predicted Sentiment: negative (confidence: 0.37)\n",
      "\n",
      "Text: Although the cinematography was breathtaking, the dialogue felt contrived and pretentious, leaving me torn.\n",
      "Predicted Sentiment: negative (confidence: 0.37)\n",
      "\n",
      "Text: The software's GUI is slick as hell, but the backend is a trainwreck—zero cohesion in the APIs.\n",
      "Predicted Sentiment: negative (confidence: 0.36)\n",
      "\n"
     ]
    }
   ],
   "source": [
    "for res in results:\n",
    "    print(f\"Text: {res['text']}\")\n",
    "    print(f\"Predicted Sentiment: {res['sentiment']} (confidence: {res['confifence']:.2f})\\n\")"
   ]
  }
 ],
 "metadata": {
  "kernelspec": {
   "display_name": "Python 3",
   "language": "python",
   "name": "python3"
  },
  "language_info": {
   "codemirror_mode": {
    "name": "ipython",
    "version": 3
   },
   "file_extension": ".py",
   "mimetype": "text/x-python",
   "name": "python",
   "nbconvert_exporter": "python",
   "pygments_lexer": "ipython3",
   "version": "3.10.18"
  }
 },
 "nbformat": 4,
 "nbformat_minor": 5
}
