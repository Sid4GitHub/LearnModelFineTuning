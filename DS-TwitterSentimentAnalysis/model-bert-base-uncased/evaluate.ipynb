{
 "cells": [
  {
   "cell_type": "code",
   "execution_count": 2,
   "id": "23fcd09d",
   "metadata": {},
   "outputs": [
    {
     "data": {
      "application/vnd.jupyter.widget-view+json": {
       "model_id": "9bc80da5141545f2893a616430c95a6a",
       "version_major": 2,
       "version_minor": 0
      },
      "text/plain": [
       "Filter:   0%|          | 0/1000 [00:00<?, ? examples/s]"
      ]
     },
     "metadata": {},
     "output_type": "display_data"
    }
   ],
   "source": [
    "import numpy as np\n",
    "import pandas as pd\n",
    "from datasets import Dataset\n",
    "from dotenv import load_dotenv\n",
    "import os\n",
    "import numpy as np\n",
    "from pathlib import Path\n",
    "\n",
    "# Specify your .env file path\n",
    "dotenv_path = Path(\"../.env\").resolve()\n",
    "\n",
    "load_dotenv(dotenv_path=dotenv_path.resolve(), override=True)\n",
    "\n",
    "columns = ['tweet_id', 'entity', 'sentiment', 'tweet_content']\n",
    "\n",
    "base_path = os.getenv('BASE_DATASET_PATH') \n",
    "\n",
    "val_df = pd.read_csv(f'{base_path}\\\\twitter_validation.csv', names=columns, header=None)\n",
    " \n",
    "val_df = val_df.drop(columns=['tweet_id', 'entity'])\n",
    "\n",
    "\n",
    "labrel_map = {'neutral': 0, 'positive': 1, 'negative': 2}\n",
    "\n",
    "val_df['label'] = val_df['sentiment'].str.strip().str.lower().map(labrel_map) \n",
    "val_df = val_df.replace([np.inf, -np.inf], np.nan)\n",
    "val_df['label'] = val_df['label'].fillna(0).astype(int)\n",
    " \n",
    "val_ds = Dataset.from_pandas(val_df)\n",
    " \n",
    "val_ds   = val_ds.filter(lambda x: x['label'] is not None)"
   ]
  },
  {
   "cell_type": "code",
   "execution_count": 3,
   "id": "0d5e0236",
   "metadata": {},
   "outputs": [
    {
     "name": "stderr",
     "output_type": "stream",
     "text": [
      "d:\\Work\\miniconda_env\\hf-pytorch\\lib\\site-packages\\transformers\\utils\\hub.py:111: FutureWarning: Using `TRANSFORMERS_CACHE` is deprecated and will be removed in v5 of Transformers. Use `HF_HOME` instead.\n",
      "  warnings.warn(\n",
      "Some weights of BertForSequenceClassification were not initialized from the model checkpoint at bert-base-uncased and are newly initialized: ['classifier.bias', 'classifier.weight']\n",
      "You should probably TRAIN this model on a down-stream task to be able to use it for predictions and inference.\n",
      "d:\\Work\\miniconda_env\\hf-pytorch\\lib\\site-packages\\peft\\tuners\\tuners_utils.py:190: UserWarning: Already found a `peft_config` attribute in the model. This will lead to having multiple adapters in the model. Make sure to know what you are doing!\n",
      "  warnings.warn(\n"
     ]
    }
   ],
   "source": [
    "from transformers import AutoTokenizer, AutoModelForSequenceClassification\n",
    "from peft import PeftModel\n",
    "import pandas as pd\n",
    "\n",
    "model_dir = \"./bert-base-uncased-twitter-sentiment-finetuned-model\"\n",
    "tokenizer = AutoTokenizer.from_pretrained(model_dir)\n",
    "base_model = AutoModelForSequenceClassification.from_pretrained(model_dir, num_labels=3)\n",
    "\n",
    "model = PeftModel.from_pretrained(base_model, model_dir)\n",
    "model.config.problem_type = \"single_label_classification\"\n"
   ]
  },
  {
   "cell_type": "code",
   "execution_count": 4,
   "id": "9537558e",
   "metadata": {},
   "outputs": [
    {
     "data": {
      "application/vnd.jupyter.widget-view+json": {
       "model_id": "8a68506b223e48989993bd2987979297",
       "version_major": 2,
       "version_minor": 0
      },
      "text/plain": [
       "Map:   0%|          | 0/1000 [00:00<?, ? examples/s]"
      ]
     },
     "metadata": {},
     "output_type": "display_data"
    }
   ],
   "source": [
    "def tokenize_function(examples):\n",
    "    texts = [str(x) if x is not None else \"\" for x in examples['tweet_content']]\n",
    "    return tokenizer(texts, padding=\"max_length\", truncation=True, max_length=128)\n",
    " \n",
    "val_ds   = val_ds.map(tokenize_function,   batched=True, remove_columns=['tweet_content'])"
   ]
  },
  {
   "cell_type": "code",
   "execution_count": 5,
   "id": "f1d14d60",
   "metadata": {},
   "outputs": [
    {
     "name": "stderr",
     "output_type": "stream",
     "text": [
      "C:\\Users\\91896\\AppData\\Local\\Temp\\ipykernel_22976\\1991957341.py:11: FutureWarning: `tokenizer` is deprecated and will be removed in version 5.0.0 for `Trainer.__init__`. Use `processing_class` instead.\n",
      "  triner = Trainer(\n",
      "No label_names provided for model class `PeftModelForSequenceClassification`. Since `PeftModel` hides base models input arguments, if label_names is not given, label_names can't be set automatically within `Trainer`. Note that empty label_names list will be used instead.\n",
      "d:\\Work\\miniconda_env\\hf-pytorch\\lib\\site-packages\\torch\\nn\\modules\\module.py:1747: FutureWarning: `encoder_attention_mask` is deprecated and will be removed in version 4.55.0 for `BertSdpaSelfAttention.forward`.\n",
      "  return forward_call(*args, **kwargs)\n"
     ]
    },
    {
     "data": {
      "text/html": [
       "\n",
       "    <div>\n",
       "      \n",
       "      <progress value='125' max='125' style='width:300px; height:20px; vertical-align: middle;'></progress>\n",
       "      [125/125 00:16]\n",
       "    </div>\n",
       "    "
      ],
      "text/plain": [
       "<IPython.core.display.HTML object>"
      ]
     },
     "metadata": {},
     "output_type": "display_data"
    },
    {
     "name": "stdout",
     "output_type": "stream",
     "text": [
      "Validation results: {'eval_loss': 0.37805089354515076, 'eval_model_preparation_time': 0.0069, 'eval_accuracy': 0.849, 'eval_f1': 0.8495222428524132, 'eval_runtime': 17.1945, 'eval_samples_per_second': 58.158, 'eval_steps_per_second': 7.27}\n"
     ]
    }
   ],
   "source": [
    "from transformers import Trainer\n",
    "from sklearn.metrics import accuracy_score, f1_score\n",
    "\n",
    "def compute_metrics(eval_pred):\n",
    "    logits, labels = eval_pred\n",
    "    predictions = np.argmax(logits, axis=-1)\n",
    "    acc = accuracy_score(labels, predictions)\n",
    "    f1 = f1_score(labels, predictions, average='weighted')\n",
    "    return {\"accuracy\": acc, \"f1\": f1}\n",
    "\n",
    "triner = Trainer(\n",
    "    model=model,\n",
    "    tokenizer=tokenizer,\n",
    "    compute_metrics=compute_metrics,\n",
    ")\n",
    "\n",
    "eval_result = triner.evaluate(eval_dataset=val_ds)\n",
    "print(f\"Validation results: {eval_result}\")"
   ]
  }
 ],
 "metadata": {
  "kernelspec": {
   "display_name": "Python 3",
   "language": "python",
   "name": "python3"
  },
  "language_info": {
   "codemirror_mode": {
    "name": "ipython",
    "version": 3
   },
   "file_extension": ".py",
   "mimetype": "text/x-python",
   "name": "python",
   "nbconvert_exporter": "python",
   "pygments_lexer": "ipython3",
   "version": "3.10.18"
  }
 },
 "nbformat": 4,
 "nbformat_minor": 5
}
